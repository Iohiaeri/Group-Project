{
 "cells": [
  {
   "cell_type": "code",
   "execution_count": 4,
   "id": "c77d7a33",
   "metadata": {},
   "outputs": [],
   "source": [
    "import pandas as pd\n",
    "import numpy as np\n",
    "import matplotlib.pyplot as plt"
   ]
  },
  {
   "cell_type": "code",
   "execution_count": 15,
   "id": "c449dbab",
   "metadata": {},
   "outputs": [
    {
     "name": "stdout",
     "output_type": "stream",
     "text": [
      "   #Column A: Day of the year\n",
      "2               1  8:07  6.57\n",
      "3               1 15:37 -0.39\n",
      "4               2  8:55  5.38\n",
      "5               2 16:25 -1.74\n",
      "6               3  9:45  5.26\n",
      "..                        ...\n",
      "79             39 11:15  3.26\n",
      "80             40  4:29  5.21\n",
      "81             40 12:22  2.39\n",
      "82             41  5:21  4.83\n",
      "83             41 13:14  2.41\n",
      "\n",
      "[82 rows x 1 columns]\n"
     ]
    }
   ],
   "source": [
    "df = pd.read_csv('ASTR19_S22_group_project_data.txt')\n",
    "df = df.iloc[2:]\n",
    "df = df.iloc[:,0:2]\n",
    "print(df)"
   ]
  },
  {
   "cell_type": "code",
   "execution_count": null,
   "id": "2ed09f65",
   "metadata": {},
   "outputs": [],
   "source": []
  }
 ],
 "metadata": {
  "kernelspec": {
   "display_name": "Python 3 (ipykernel)",
   "language": "python",
   "name": "python3"
  },
  "language_info": {
   "codemirror_mode": {
    "name": "ipython",
    "version": 3
   },
   "file_extension": ".py",
   "mimetype": "text/x-python",
   "name": "python",
   "nbconvert_exporter": "python",
   "pygments_lexer": "ipython3",
   "version": "3.10.4"
  }
 },
 "nbformat": 4,
 "nbformat_minor": 5
}
